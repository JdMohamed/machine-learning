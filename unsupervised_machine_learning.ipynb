{
  "nbformat": 4,
  "nbformat_minor": 0,
  "metadata": {
    "colab": {
      "provenance": [],
      "authorship_tag": "ABX9TyNvpiUszzkg/F6+gavFgC9D",
      "include_colab_link": true
    },
    "kernelspec": {
      "name": "python3",
      "display_name": "Python 3"
    },
    "language_info": {
      "name": "python"
    }
  },
  "cells": [
    {
      "cell_type": "markdown",
      "metadata": {
        "id": "view-in-github",
        "colab_type": "text"
      },
      "source": [
        "<a href=\"https://colab.research.google.com/github/JdMohamed/machine-learning/blob/main/unsupervised_machine_learning.ipynb\" target=\"_parent\"><img src=\"https://colab.research.google.com/assets/colab-badge.svg\" alt=\"Open In Colab\"/></a>"
      ]
    },
    {
      "cell_type": "markdown",
      "source": [],
      "metadata": {
        "id": "tiwWhXvG6In6"
      }
    },
    {
      "cell_type": "markdown",
      "source": [
        "# K-**Means**"
      ],
      "metadata": {
        "id": "89wu0cku6NpS"
      }
    },
    {
      "cell_type": "markdown",
      "source": [
        "📊 What is K-Means Clustering?\n",
        "K-Means is an unsupervised machine learning algorithm used to group data points into clusters based on similarity.\n",
        "\n",
        "It’s one of the simplest and most widely used clustering algorithms.\n",
        "\n",
        "🔍 Definition:\n",
        "K-Means Clustering partitions data into K clusters, where each data point belongs to the cluster with the nearest centroid (mean of the cluster).\n",
        "\n",
        "🧠 How it Works (Step-by-Step):\n",
        "Choose K = number of clusters.\n",
        "\n",
        "Initialize K random centroids.\n",
        "\n",
        "Assign each data point to the nearest centroid.\n",
        "\n",
        "Update centroids by calculating the mean of the points in each cluster.\n",
        "\n",
        "Repeat steps 3-4 until:\n",
        "\n",
        "Points stop changing clusters (convergence), or\n",
        "\n",
        "A maximum number of iterations is reached.\n",
        "\n",
        "📌 Example:\n",
        "Imagine clustering customers based on:\n",
        "\n",
        "Age\tAnnual Income\n",
        "22\t15,000\n",
        "35\t70,000\n",
        "60\t90,000\n",
        "25\t20,000\n",
        "40\t60,000\n",
        "\n",
        "K-Means can group them into, for example, 3 clusters: low, medium, and high-income customers.\n",
        "\n",
        "🧪 Python Example (with scikit-learn):\n",
        "python\n",
        "Copier\n",
        "Modifier\n",
        "import numpy as np\n",
        "import matplotlib.pyplot as plt\n",
        "from sklearn.cluster import KMeans\n",
        "\n",
        "# Example data\n",
        "X = np.array([\n",
        "    [22, 15000],\n",
        "    [35, 70000],\n",
        "    [60, 90000],\n",
        "    [25, 20000],\n",
        "    [40, 60000]\n",
        "])\n",
        "\n",
        "# Train KMeans with 3 clusters\n",
        "kmeans = KMeans(n_clusters=3, random_state=42)\n",
        "kmeans.fit(X)\n",
        "\n",
        "# Get cluster labels\n",
        "labels = kmeans.labels_\n",
        "centroids = kmeans.cluster_centers_\n",
        "\n",
        "# Plot clusters\n",
        "for i in range(3):\n",
        "    plt.scatter(X[labels == i][:, 0], X[labels == i][:, 1], label=f'Cluster {i+1}')\n",
        "\n",
        "plt.scatter(centroids[:, 0], centroids[:, 1], s=200, c='black', marker='X', label='Centroids')\n",
        "plt.xlabel('Age')\n",
        "plt.ylabel('Income')\n",
        "plt.legend()\n",
        "plt.title('K-Means Clustering')\n",
        "plt.show()\n",
        "✅ When to Use K-Means:\n",
        "Customer segmentation\n",
        "\n",
        "Market basket analysis\n",
        "\n",
        "Image compression\n",
        "\n",
        "Document classification\n",
        "\n",
        "⚠️ Limitations:\n",
        "Issue\tDescription\n",
        "Need to choose K\tYou must specify number of clusters in advance\n",
        "Sensitive to scale\tFeatures with different units can skew results\n",
        "Sensitive to outliers\tCan pull centroids away from real groups\n",
        "Assumes spherical clusters\tDoesn’t perform well if clusters have irregular shapes\n",
        "\n",
        "✅ Use StandardScaler to scale features before clustering.\n",
        "\n",
        "📚 Summary\n",
        "Feature\tValue\n",
        "Algorithm type\tUnsupervised learning\n",
        "Goal\tGroup similar data points\n",
        "Input\tUnlabeled data\n",
        "Output\tCluster assignments (labels)\n",
        "Popular use cases\tSegmentation, grouping, analysis"
      ],
      "metadata": {
        "id": "AJuRSRlm6SKs"
      }
    },
    {
      "cell_type": "code",
      "execution_count": null,
      "metadata": {
        "id": "gVqPxAR45gfO"
      },
      "outputs": [],
      "source": []
    }
  ]
}